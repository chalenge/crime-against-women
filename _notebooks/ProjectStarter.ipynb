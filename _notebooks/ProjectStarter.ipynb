{
 "metadata": {
  "name": "",
  "signature": "sha256:78a0224f9de2ca1a36b40883619e7e99a5fa07bac985c31ad2550d9daace3ff7"
 },
 "nbformat": 3,
 "nbformat_minor": 0,
 "worksheets": [
  {
   "cells": [
    {
     "cell_type": "code",
     "collapsed": false,
     "input": [
      "%pylab --no-import-all inline"
     ],
     "language": "python",
     "metadata": {},
     "outputs": [
      {
       "output_type": "stream",
       "stream": "stdout",
       "text": [
        "Populating the interactive namespace from numpy and matplotlib\n"
       ]
      }
     ],
     "prompt_number": 1
    },
    {
     "cell_type": "code",
     "collapsed": false,
     "input": [
      "import numpy as np\n",
      "import os\n",
      "import pandas as pd\n",
      "import codecs\n",
      "\n",
      "from pandas import DataFrame, Series"
     ],
     "language": "python",
     "metadata": {},
     "outputs": [],
     "prompt_number": 2
    },
    {
     "cell_type": "markdown",
     "metadata": {},
     "source": [
      "CURRENT WORK\n",
      "\n",
      "Most current year (2012) data for persons arrested for crime against women by gender, age group, state/union territory and crime type"
     ]
    },
    {
     "cell_type": "code",
     "collapsed": false,
     "input": [
      "FILES_DIR = os.path.join(os.pardir, \"_data\")\n",
      "# file_path = os.path.join(FILES_DIR, 'CurrentYear2012Data.csv')\n",
      "\n",
      "# !head $file_path"
     ],
     "language": "python",
     "metadata": {},
     "outputs": [],
     "prompt_number": 3
    },
    {
     "cell_type": "code",
     "collapsed": false,
     "input": [
      "currentFile = codecs.open(os.path.join(FILES_DIR,'CurrentYear2012Data.csv'), encoding='iso-8859-1')\n",
      "\n",
      "# Create the data frame\n",
      "currentYear = pd.read_csv(currentFile)"
     ],
     "language": "python",
     "metadata": {},
     "outputs": [],
     "prompt_number": 4
    },
    {
     "cell_type": "code",
     "collapsed": false,
     "input": [
      "currentYear.head()"
     ],
     "language": "python",
     "metadata": {},
     "outputs": [
      {
       "html": [
        "<div style=\"max-height:1000px;max-width:1500px;overflow:auto;\">\n",
        "<table border=\"1\" class=\"dataframe\">\n",
        "  <thead>\n",
        "    <tr style=\"text-align: right;\">\n",
        "      <th></th>\n",
        "      <th>STATE/UT</th>\n",
        "      <th>Crime head</th>\n",
        "      <th>Male Below 18 Years</th>\n",
        "      <th>Female Below 18 Years</th>\n",
        "      <th>Male Between 18-30 Years</th>\n",
        "      <th>Female Between 18-30 Years</th>\n",
        "      <th>Male Between 30-45 Years</th>\n",
        "      <th>Female Between 30-45 Years</th>\n",
        "      <th>Male Between 45-60 Years</th>\n",
        "      <th>Female Between 45-60 Years</th>\n",
        "      <th>Male Above 60 Years</th>\n",
        "      <th>Female Above 60 Years</th>\n",
        "      <th>Total Male</th>\n",
        "      <th>Total Female</th>\n",
        "      <th>Grand Total</th>\n",
        "    </tr>\n",
        "  </thead>\n",
        "  <tbody>\n",
        "    <tr>\n",
        "      <th>0</th>\n",
        "      <td>    ANDHRA PRADESH</td>\n",
        "      <td> RAPE (SECTION 376 IPC)</td>\n",
        "      <td> 81</td>\n",
        "      <td> 0</td>\n",
        "      <td> 993</td>\n",
        "      <td> 77</td>\n",
        "      <td> 347</td>\n",
        "      <td> 31</td>\n",
        "      <td> 111</td>\n",
        "      <td> 16</td>\n",
        "      <td> 8</td>\n",
        "      <td> 0</td>\n",
        "      <td> 1540</td>\n",
        "      <td> 124</td>\n",
        "      <td> 1664</td>\n",
        "    </tr>\n",
        "    <tr>\n",
        "      <th>1</th>\n",
        "      <td> ARUNACHAL PRADESH</td>\n",
        "      <td> RAPE (SECTION 376 IPC)</td>\n",
        "      <td>  2</td>\n",
        "      <td> 0</td>\n",
        "      <td>  41</td>\n",
        "      <td>  0</td>\n",
        "      <td>   4</td>\n",
        "      <td>  0</td>\n",
        "      <td>   0</td>\n",
        "      <td>  0</td>\n",
        "      <td> 0</td>\n",
        "      <td> 0</td>\n",
        "      <td>   47</td>\n",
        "      <td>   0</td>\n",
        "      <td>   47</td>\n",
        "    </tr>\n",
        "    <tr>\n",
        "      <th>2</th>\n",
        "      <td>             ASSAM</td>\n",
        "      <td> RAPE (SECTION 376 IPC)</td>\n",
        "      <td> 58</td>\n",
        "      <td> 0</td>\n",
        "      <td> 746</td>\n",
        "      <td>  0</td>\n",
        "      <td> 642</td>\n",
        "      <td>  2</td>\n",
        "      <td> 178</td>\n",
        "      <td>  0</td>\n",
        "      <td> 0</td>\n",
        "      <td> 0</td>\n",
        "      <td> 1624</td>\n",
        "      <td>   2</td>\n",
        "      <td> 1626</td>\n",
        "    </tr>\n",
        "    <tr>\n",
        "      <th>3</th>\n",
        "      <td>             BIHAR</td>\n",
        "      <td> RAPE (SECTION 376 IPC)</td>\n",
        "      <td> 31</td>\n",
        "      <td> 0</td>\n",
        "      <td> 829</td>\n",
        "      <td>  0</td>\n",
        "      <td> 416</td>\n",
        "      <td>  0</td>\n",
        "      <td>  49</td>\n",
        "      <td>  0</td>\n",
        "      <td> 2</td>\n",
        "      <td> 0</td>\n",
        "      <td> 1327</td>\n",
        "      <td>   0</td>\n",
        "      <td> 1327</td>\n",
        "    </tr>\n",
        "    <tr>\n",
        "      <th>4</th>\n",
        "      <td>      CHHATTISGARH</td>\n",
        "      <td> RAPE (SECTION 376 IPC)</td>\n",
        "      <td>  0</td>\n",
        "      <td> 0</td>\n",
        "      <td> 115</td>\n",
        "      <td> 19</td>\n",
        "      <td> 505</td>\n",
        "      <td>  0</td>\n",
        "      <td> 575</td>\n",
        "      <td>  0</td>\n",
        "      <td> 0</td>\n",
        "      <td> 0</td>\n",
        "      <td> 1195</td>\n",
        "      <td>  19</td>\n",
        "      <td> 1214</td>\n",
        "    </tr>\n",
        "  </tbody>\n",
        "</table>\n",
        "<p>5 rows \u00d7 15 columns</p>\n",
        "</div>"
       ],
       "metadata": {},
       "output_type": "pyout",
       "prompt_number": 5,
       "text": [
        "            STATE/UT              Crime head  Male Below 18 Years  \\\n",
        "0     ANDHRA PRADESH  RAPE (SECTION 376 IPC)                   81   \n",
        "1  ARUNACHAL PRADESH  RAPE (SECTION 376 IPC)                    2   \n",
        "2              ASSAM  RAPE (SECTION 376 IPC)                   58   \n",
        "3              BIHAR  RAPE (SECTION 376 IPC)                   31   \n",
        "4       CHHATTISGARH  RAPE (SECTION 376 IPC)                    0   \n",
        "\n",
        "   Female Below 18 Years  Male Between 18-30 Years  \\\n",
        "0                      0                       993   \n",
        "1                      0                        41   \n",
        "2                      0                       746   \n",
        "3                      0                       829   \n",
        "4                      0                       115   \n",
        "\n",
        "   Female Between 18-30 Years  Male Between 30-45 Years  \\\n",
        "0                          77                       347   \n",
        "1                           0                         4   \n",
        "2                           0                       642   \n",
        "3                           0                       416   \n",
        "4                          19                       505   \n",
        "\n",
        "   Female Between 30-45 Years  Male Between 45-60 Years  \\\n",
        "0                          31                       111   \n",
        "1                           0                         0   \n",
        "2                           2                       178   \n",
        "3                           0                        49   \n",
        "4                           0                       575   \n",
        "\n",
        "   Female Between 45-60 Years  Male Above 60 Years  Female Above 60 Years  \\\n",
        "0                          16                    8                      0   \n",
        "1                           0                    0                      0   \n",
        "2                           0                    0                      0   \n",
        "3                           0                    2                      0   \n",
        "4                           0                    0                      0   \n",
        "\n",
        "   Total Male  Total Female  Grand Total  \n",
        "0        1540           124         1664  \n",
        "1          47             0           47  \n",
        "2        1624             2         1626  \n",
        "3        1327             0         1327  \n",
        "4        1195            19         1214  \n",
        "\n",
        "[5 rows x 15 columns]"
       ]
      }
     ],
     "prompt_number": 5
    },
    {
     "cell_type": "code",
     "collapsed": false,
     "input": [
      "currentYear.shape"
     ],
     "language": "python",
     "metadata": {},
     "outputs": [
      {
       "metadata": {},
       "output_type": "pyout",
       "prompt_number": 6,
       "text": [
        "(453, 15)"
       ]
      }
     ],
     "prompt_number": 6
    },
    {
     "cell_type": "markdown",
     "metadata": {},
     "source": [
      "Verify if the number of states in dataframe are equal to actual in India i.e. 35"
     ]
    },
    {
     "cell_type": "code",
     "collapsed": false,
     "input": [
      "len(currentYear.groupby('STATE/UT'))"
     ],
     "language": "python",
     "metadata": {},
     "outputs": [
      {
       "metadata": {},
       "output_type": "pyout",
       "prompt_number": 7,
       "text": [
        "38"
       ]
      }
     ],
     "prompt_number": 7
    },
    {
     "cell_type": "markdown",
     "metadata": {},
     "source": [
      "So there are 38 states listed in the dataframe which is more than the actual. We will investigate why this is so"
     ]
    },
    {
     "cell_type": "code",
     "collapsed": false,
     "input": [
      "state_names = currentYear.groupby('STATE/UT')\n",
      "print state_names"
     ],
     "language": "python",
     "metadata": {},
     "outputs": [
      {
       "output_type": "stream",
       "stream": "stdout",
       "text": [
        "<pandas.core.groupby.DataFrameGroupBy object at 0x1024787d0>\n"
       ]
      }
     ],
     "prompt_number": 8
    },
    {
     "cell_type": "markdown",
     "metadata": {},
     "source": [
      "Preliminary Analysis To Do\n",
      "\n",
      "We attempt to calculate the total number of people (men and women) arrested for crime against women in 2012 by summing up the Grand Total column. Further, we try to find the total number of these criminals per thousand. Turns out, about 1 in every thousand people got arrested for commiting a crime against women. This is a big number for a country with a population of over a billion.  "
     ]
    },
    {
     "cell_type": "code",
     "collapsed": false,
     "input": [
      "totalCrime_2012 = sum(currentYear['Grand Total'])\n",
      "print totalCrime_2012\n",
      "\n",
      "totalIndiaPopulation = 1237000000\n",
      "\n",
      "criminalsPer_1000 = (totalCrime_2012 *1000) / totalIndiaPopulation \n",
      "print criminalsPer_1000"
     ],
     "language": "python",
     "metadata": {},
     "outputs": [
      {
       "output_type": "stream",
       "stream": "stdout",
       "text": [
        "1577500\n",
        "1\n"
       ]
      }
     ],
     "prompt_number": 9
    },
    {
     "cell_type": "code",
     "collapsed": false,
     "input": [],
     "language": "python",
     "metadata": {},
     "outputs": []
    }
   ],
   "metadata": {}
  }
 ]
}